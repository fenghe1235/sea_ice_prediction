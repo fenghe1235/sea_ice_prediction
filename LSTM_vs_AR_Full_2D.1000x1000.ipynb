{
 "cells": [
  {
   "cell_type": "code",
   "execution_count": 1,
   "metadata": {},
   "outputs": [],
   "source": [
    "import netCDF4 as nc\n",
    "from netCDF4 import Dataset\n",
    "from numpy import array\n",
    "from numpy import nanmean\n",
    "import numpy as np\n",
    "from keras.models import Sequential\n",
    "from statsmodels.tsa.ar_model import AutoReg\n",
    "from keras.layers import Dense\n",
    "from keras.layers import LSTM\n",
    "import matplotlib.pyplot as plt\n",
    "import tensorflow as tf\n",
    "from sklearn.metrics import mean_squared_error\n",
    "from math import sqrt\n",
    "import math\n",
    "from shutil import copyfile\n",
    "import warnings\n",
    "warnings.filterwarnings('ignore')\n",
    "#tf.random.set_seed(7)\n",
    "#tf.random.set_seed(77)"
   ]
  },
  {
   "cell_type": "code",
   "execution_count": 2,
   "metadata": {},
   "outputs": [
    {
     "name": "stdout",
     "output_type": "stream",
     "text": [
      "[[  0.    0.    0.    0.    0.    0.    0.    0.    0.    0. ]\n",
      " [  0.    0.    0.    0.    0.    0.    nan  87.9   nan   nan]\n",
      " [  nan   nan   0.    nan  98.9   nan   nan   nan   nan   nan]\n",
      " [  nan   nan   nan 100.   99.4  99.1   nan   nan   nan   nan]\n",
      " [  nan   nan   nan   nan  99.3  99.6   nan   nan   nan   nan]\n",
      " [  nan  99.   97.8  98.2  99.7  98.9  99.5   nan   nan   nan]\n",
      " [  nan   nan  56.6   nan  96.9  92.9  25.4   nan   nan   nan]\n",
      " [  0.    0.    0.    0.    0.    0.    nan   nan   nan   nan]\n",
      " [  0.    0.    0.    0.    0.    0.    nan   nan   nan   0. ]\n",
      " [  0.    0.    0.    0.    0.    nan   nan   0.    nan   nan]]\n"
     ]
    }
   ],
   "source": [
    "from shutil import copyfile\n",
    "copyfile('icecon.APPX.1000x1000.nc', 'icecon.APPX.1000x1000.RMSE.LSTM_vs_AR.nc')\n",
    "nc_f    = './icecon.APPX.1000x1000.RMSE.LSTM_vs_AR.nc'\n",
    "#nc_f    = './icecon.APPX.250x250.1982-2017.nc'\n",
    "nc_fid  = Dataset(nc_f, 'r+')\n",
    "time    = nc_fid.variables['record'][:]\n",
    "sic     = nc_fid.variables['icecon'][:]\n",
    "sic0    = sic[0,:,:]\n",
    "RMSE_ML = np.empty(shape=sic0.shape,dtype='float') \n",
    "RMSE_AR = np.empty(shape=sic0.shape,dtype='float') \n",
    "RMSE_ML_AR = np.empty(shape=sic0.shape,dtype='float') \n",
    "n_steps = 12\n",
    "print(sic0)"
   ]
  },
  {
   "cell_type": "code",
   "execution_count": 3,
   "metadata": {},
   "outputs": [
    {
     "name": "stdout",
     "output_type": "stream",
     "text": [
      "{'record': <class 'netCDF4._netCDF4.Dimension'> (unlimited): name = 'record', size = 444, 'num_pixels': <class 'netCDF4._netCDF4.Dimension'>: name = 'num_pixels', size = 10, 'num_lines': <class 'netCDF4._netCDF4.Dimension'>: name = 'num_lines', size = 10, 'ncl3': <class 'netCDF4._netCDF4.Dimension'>: name = 'ncl3', size = 444}\n",
      "dict_keys(['icecon', 'lat', 'lon', 'record'])\n",
      "(444, 10, 10)\n",
      "(444,)\n"
     ]
    }
   ],
   "source": [
    "print(nc_fid.dimensions)\n",
    "print(nc_fid.variables.keys())\n",
    "print(sic.shape)\n",
    "print(time.shape)"
   ]
  },
  {
   "cell_type": "code",
   "execution_count": 4,
   "metadata": {},
   "outputs": [],
   "source": [
    "nmonth  = len(time)\n",
    "sic_train       =  sic[0:nmonth-12,:,:]\n",
    "time_train      = time[0:nmonth-12]"
   ]
  },
  {
   "cell_type": "code",
   "execution_count": 5,
   "metadata": {},
   "outputs": [
    {
     "name": "stdout",
     "output_type": "stream",
     "text": [
      "False\n"
     ]
    },
    {
     "data": {
      "text/plain": [
       "[<matplotlib.lines.Line2D at 0x14a720eb0>]"
      ]
     },
     "execution_count": 5,
     "metadata": {},
     "output_type": "execute_result"
    },
    {
     "data": {
      "image/png": "[encoded data removed]",
      "text/plain": [
       "<Figure size 432x288 with 1 Axes>"
      ]
     },
     "metadata": {
      "needs_background": "light"
     },
     "output_type": "display_data"
    }
   ],
   "source": [
    "num_x = 5\n",
    "num_y = 5\n",
    "\n",
    "#num_x = 8\n",
    "#num_y = 9\n",
    "\n",
    "#num_x = 9\n",
    "#num_y = 9\n",
    "\n",
    "#num_x = 5\n",
    "#num_y = 5\n",
    "\n",
    "#num_x = 18\n",
    "#num_y = 12\n",
    "\n",
    "#num_x = 25\n",
    "#num_y = 16\n",
    "\n",
    "#num_x = 5\n",
    "#num_y = 15\n",
    "\n",
    "#num_x = 22\n",
    "#num_y = 22\n",
    "\n",
    "#num_x = 18\n",
    "#num_y = 9\n",
    "print(any(np.isnan(sic[:,num_x,num_y])))\n",
    "plt.plot(time,sic[:,num_x,num_y],'-o')\n",
    "plt.plot(time_train,sic_train[0:nmonth-12,num_x,num_y],'-o')"
   ]
  },
  {
   "cell_type": "code",
   "execution_count": 6,
   "metadata": {},
   "outputs": [
    {
     "data": {
      "text/plain": [
       "[<matplotlib.lines.Line2D at 0x14a8107f0>]"
      ]
     },
     "execution_count": 6,
     "metadata": {},
     "output_type": "execute_result"
    },
    {
     "data": {
      "image/png": "[encoded data removed]",
      "text/plain": [
       "<Figure size 432x288 with 1 Axes>"
      ]
     },
     "metadata": {
      "needs_background": "light"
     },
     "output_type": "display_data"
    }
   ],
   "source": [
    "plt.plot(time[nmonth-72:],sic[nmonth-72:,num_x,num_y],'-o')\n",
    "plt.plot(time_train[nmonth-24:nmonth-12],sic_train[nmonth-24:nmonth-12,num_x,num_y],'-o')"
   ]
  },
  {
   "cell_type": "code",
   "execution_count": 7,
   "metadata": {},
   "outputs": [],
   "source": [
    "# split a univariate sequence into samples\n",
    "def split_sequence(sequence, n_steps):\n",
    "        X, y = list(), list()\n",
    "        for i in range(len(sequence)):\n",
    "                # find the end of this pattern\n",
    "                end_ix = i + n_steps\n",
    "                # check if we are beyond the sequence\n",
    "                if end_ix > len(sequence)-1:\n",
    "                        break\n",
    "                # gather input and output parts of the pattern\n",
    "                seq_x, seq_y = sequence[i:end_ix], sequence[end_ix]\n",
    "                X.append(seq_x)\n",
    "                y.append(seq_y)\n",
    "        return array(X), array(y)\n",
    "\n",
    "def LSTM_sequence_sic(sic, n_steps, dense_num, epoch_num, n_features):\n",
    "        X = list()\n",
    "        if any(np.isnan(sic)):\n",
    "            for i in range(n_steps):\n",
    "                X_new = float(\"nan\")\n",
    "                X.append(X_new)\n",
    "                #print(X_new.shape)\n",
    "            RMSE = float(\"nan\")\n",
    "        else:\n",
    "            if min(sic) == max(sic):\n",
    "                for i in range(n_steps):\n",
    "                    X_new = min(sic)\n",
    "                    X.append(X_new)\n",
    "                    #print(X_new.shape)\n",
    "                RMSE = float(\"nan\")\n",
    "            else:     \n",
    "                nmonth          = len(sic)\n",
    "                sic_train       = sic[0:nmonth-n_steps]\n",
    "                X_SIC, Y_SIC    = split_sequence(sic_train,n_steps)\n",
    "                X_SIC = X_SIC.reshape((X_SIC.shape[0], X_SIC.shape[1], n_features))\n",
    "                \n",
    "                model = Sequential()\n",
    "                model.add(LSTM(dense_num, activation='relu', input_shape=(n_steps, n_features)))\n",
    "                model.add(Dense(1))\n",
    "                model.compile(optimizer='adam', loss='mse')\n",
    "                model.fit(X_SIC, Y_SIC, epochs=epoch_num, verbose=0)\n",
    "        \n",
    "        \n",
    "                for i in range(n_steps):\n",
    "                    x_input = sic[nmonth-n_steps*2+i:nmonth-n_steps+i]\n",
    "                    #print(time[nmonth-n_steps*2+i:nmonth-n_steps+i])\n",
    "                    x_input = x_input.reshape((1, n_steps, n_features))\n",
    "                    #print(x_input)\n",
    "                    X_new = model.predict(x_input, verbose=0)\n",
    "                    #print('sic            at ', i,'is ', sic[nmonth-n_steps+i])\n",
    "                    #print('sic prediction at ', i,'is ', X_new)\n",
    "                    #print('')\n",
    "                    #input('press return to continue')\n",
    "                    X.append(X_new[0,0])\n",
    "                RMSE = sqrt(mean_squared_error(sic[nmonth-n_steps:], X))\n",
    "        return array(X), RMSE\n",
    "    \n",
    "def AR_sequence_sic(sic, n_steps, lagnum):\n",
    "        X = list()\n",
    "        if any(np.isnan(sic)):\n",
    "            for i in range(n_steps):\n",
    "                X_new = float(\"nan\")\n",
    "                X.append(X_new)\n",
    "                #print(X_new.shape)\n",
    "            RMSE = float(\"nan\")\n",
    "        else:\n",
    "            if min(sic) == max(sic):\n",
    "                for i in range(n_steps):\n",
    "                    X_new = min(sic)\n",
    "                    X.append(X_new)\n",
    "                    #print(X_new.shape)\n",
    "                RMSE = float(\"nan\")\n",
    "            else:     \n",
    "                for i in range(n_steps):\n",
    "                    sic_train = sic[0:nmonth-n_steps+i]\n",
    "                    model = AutoReg(sic_train, lags=lagnum)\n",
    "                    model_fit = model.fit()\n",
    "                    X_new = model_fit.predict(start=len(sic_train), end=len(sic_train), dynamic=False)\n",
    "                    #print('sic            at ', i,'is ', sic[nmonth-n_steps+i])\n",
    "                    #print('sic prediction at ', i,'is ', X_new)\n",
    "                    #print('')\n",
    "                    #input('press return to continue')\n",
    "                    X.append(X_new)\n",
    "                RMSE = sqrt(mean_squared_error(sic[nmonth-n_steps:], X))\n",
    "        return array(X), RMSE"
   ]
  },
  {
   "cell_type": "code",
   "execution_count": 8,
   "metadata": {},
   "outputs": [
    {
     "name": "stdout",
     "output_type": "stream",
     "text": [
      "ix= 1 jy= 4\n",
      "RMSE_ML= 2.0 RMSE_AR= 2.0 ML-AR= -0.0\n",
      "\n",
      "ix= 1 jy= 5\n",
      "RMSE_ML= 0.0 RMSE_AR= 0.0 ML-AR= 0.0\n",
      "\n",
      "ix= 1 jy= 7\n",
      "RMSE_ML= 8.0 RMSE_AR= 7.0 ML-AR= 2.0\n",
      "\n",
      "ix= 2 jy= 4\n",
      "RMSE_ML= 14.0 RMSE_AR= 17.0 ML-AR= -3.0\n",
      "\n",
      "ix= 3 jy= 3\n",
      "RMSE_ML= 21.0 RMSE_AR= 24.0 ML-AR= -3.0\n",
      "\n",
      "ix= 3 jy= 4\n",
      "RMSE_ML= 9.0 RMSE_AR= 14.0 ML-AR= -4.0\n",
      "\n",
      "ix= 3 jy= 5\n",
      "RMSE_ML= 9.0 RMSE_AR= 11.0 ML-AR= -1.0\n",
      "\n",
      "ix= 4 jy= 4\n",
      "RMSE_ML= 1.0 RMSE_AR= 1.0 ML-AR= -0.0\n",
      "\n",
      "ix= 4 jy= 5\n",
      "RMSE_ML= 2.0 RMSE_AR= 3.0 ML-AR= -0.0\n",
      "\n",
      "ix= 5 jy= 1\n",
      "RMSE_ML= 14.0 RMSE_AR= 20.0 ML-AR= -6.0\n",
      "\n",
      "ix= 5 jy= 2\n",
      "RMSE_ML= 6.0 RMSE_AR= 12.0 ML-AR= -6.0\n",
      "\n",
      "ix= 5 jy= 3\n",
      "RMSE_ML= 9.0 RMSE_AR= 11.0 ML-AR= -2.0\n",
      "\n",
      "ix= 5 jy= 4\n",
      "RMSE_ML= 3.0 RMSE_AR= 3.0 ML-AR= 0.0\n",
      "\n",
      "ix= 5 jy= 5\n",
      "RMSE_ML= 8.0 RMSE_AR= 9.0 ML-AR= -1.0\n",
      "\n",
      "ix= 5 jy= 6\n",
      "RMSE_ML= 13.0 RMSE_AR= 9.0 ML-AR= 5.0\n",
      "\n",
      "ix= 6 jy= 2\n",
      "RMSE_ML= 9.0 RMSE_AR= 11.0 ML-AR= -1.0\n",
      "\n",
      "ix= 6 jy= 4\n",
      "RMSE_ML= 16.0 RMSE_AR= 10.0 ML-AR= 5.0\n",
      "\n",
      "ix= 6 jy= 5\n",
      "RMSE_ML= 17.0 RMSE_AR= 10.0 ML-AR= 7.0\n",
      "\n",
      "ix= 6 jy= 6\n",
      "RMSE_ML= 0.0 RMSE_AR= 1.0 ML-AR= -1.0\n",
      "\n",
      "ix= 7 jy= 1\n",
      "RMSE_ML= 6.0 RMSE_AR= 9.0 ML-AR= -2.0\n",
      "\n",
      "ix= 8 jy= 5\n",
      "RMSE_ML= 1.0 RMSE_AR= 0.0 ML-AR= 0.0\n",
      "\n"
     ]
    }
   ],
   "source": [
    "for ix in range(sic.shape[1]):\n",
    "    for jy in range(sic.shape[2]):\n",
    "        y_hat, RMSE_ML[ix,jy] = LSTM_sequence_sic(sic[:,ix,jy],12,50,200,1)\n",
    "        z_hat, RMSE_AR[ix,jy] = AR_sequence_sic(sic[:,ix,jy],12,24)\n",
    "        RMSE_ML_AR[ix,jy] = RMSE_ML[ix,jy] - RMSE_AR[ix,jy]\n",
    "        if (not np.isnan(RMSE_ML[ix,jy])):\n",
    "            print('ix=',ix,'jy=',jy)\n",
    "            print('RMSE_ML=',round(RMSE_ML[ix,jy]),'RMSE_AR=',round(RMSE_AR[ix,jy]),'ML-AR=',round(RMSE_ML_AR[ix,jy]))\n",
    "            print('')"
   ]
  },
  {
   "cell_type": "code",
   "execution_count": 9,
   "metadata": {},
   "outputs": [
    {
     "name": "stdout",
     "output_type": "stream",
     "text": [
      "[[        nan         nan         nan         nan         nan         nan\n",
      "          nan         nan         nan         nan]\n",
      " [        nan         nan         nan         nan  1.85026917  0.08040872\n",
      "          nan  8.38833286         nan         nan]\n",
      " [        nan         nan         nan         nan 13.50657381         nan\n",
      "          nan         nan         nan         nan]\n",
      " [        nan         nan         nan 20.76545526  9.31673627  9.39741664\n",
      "          nan         nan         nan         nan]\n",
      " [        nan         nan         nan         nan  0.90286501  2.35631651\n",
      "          nan         nan         nan         nan]\n",
      " [        nan 14.31662314  5.80559992  8.64957057  2.68281004  7.75449536\n",
      "  13.47965997         nan         nan         nan]\n",
      " [        nan         nan  9.42415135         nan 15.66712291 16.94177868\n",
      "   0.49487377         nan         nan         nan]\n",
      " [        nan  6.35743808         nan         nan         nan         nan\n",
      "          nan         nan         nan         nan]\n",
      " [        nan         nan         nan         nan         nan  0.65267879\n",
      "          nan         nan         nan         nan]\n",
      " [        nan         nan         nan         nan         nan         nan\n",
      "          nan         nan         nan         nan]]\n",
      "Average of RMSE with MLP =  8.037675086250996\n"
     ]
    }
   ],
   "source": [
    "print(RMSE_ML)\n",
    "print('Average of RMSE with MLP = ', nanmean(RMSE_ML))"
   ]
  },
  {
   "cell_type": "code",
   "execution_count": 10,
   "metadata": {},
   "outputs": [
    {
     "name": "stdout",
     "output_type": "stream",
     "text": [
      "[[        nan         nan         nan         nan         nan         nan\n",
      "          nan         nan         nan         nan]\n",
      " [        nan         nan         nan         nan  2.24674795  0.06059764\n",
      "          nan  6.52739625         nan         nan]\n",
      " [        nan         nan         nan         nan 16.73468578         nan\n",
      "          nan         nan         nan         nan]\n",
      " [        nan         nan         nan 23.69078131 13.57823142 10.80711994\n",
      "          nan         nan         nan         nan]\n",
      " [        nan         nan         nan         nan  0.92024681  2.58481573\n",
      "          nan         nan         nan         nan]\n",
      " [        nan 20.18383132 11.53602915 10.68889664  2.65882914  8.8159868\n",
      "   8.72396772         nan         nan         nan]\n",
      " [        nan         nan 10.68401352         nan 10.29219889 10.31746725\n",
      "   1.01875851         nan         nan         nan]\n",
      " [        nan  8.71869014         nan         nan         nan         nan\n",
      "          nan         nan         nan         nan]\n",
      " [        nan         nan         nan         nan         nan  0.1868335\n",
      "          nan         nan         nan         nan]\n",
      " [        nan         nan         nan         nan         nan         nan\n",
      "          nan         nan         nan         nan]]\n",
      "Average of RMSE with Autoregression =  8.617910734716483\n"
     ]
    }
   ],
   "source": [
    "print(RMSE_AR)\n",
    "print('Average of RMSE with Autoregression = ', nanmean(RMSE_AR))"
   ]
  },
  {
   "cell_type": "code",
   "execution_count": 11,
   "metadata": {},
   "outputs": [],
   "source": [
    "#nc_fid.createDimension('num_pixels',10)\n",
    "#nc_fid.createDimension('num_lines', 10)\n",
    "ARvariable = nc_fid.createVariable('RMSE_AR', 'float',('num_pixels', 'num_lines'))\n",
    "MLvariable = nc_fid.createVariable('RMSE_ML', 'float',('num_pixels', 'num_lines'))\n",
    "ML_AR      = nc_fid.createVariable('RMSE_ML_AR', 'float',('num_pixels', 'num_lines'))\n",
    "ARvariable[:] = RMSE_AR[:,:]\n",
    "MLvariable[:] = RMSE_ML[:,:]\n",
    "ML_AR[:]      = RMSE_ML_AR[:,:]\n",
    "nc_fid.close()"
   ]
  },
  {
   "cell_type": "code",
   "execution_count": 12,
   "metadata": {},
   "outputs": [
    {
     "name": "stdout",
     "output_type": "stream",
     "text": [
      "Average of RMSE with MLP =  8.037675086250996\n",
      "Average of RMSE with Autoregression =  8.617910734716483\n"
     ]
    }
   ],
   "source": [
    "print('Average of RMSE with MLP = ', nanmean(RMSE_ML))\n",
    "print('Average of RMSE with Autoregression = ', nanmean(RMSE_AR))"
   ]
  }
 ],
 "metadata": {
  "kernelspec": {
   "display_name": "Python 3",
   "language": "python",
   "name": "python3"
  },
  "language_info": {
   "codemirror_mode": {
    "name": "ipython",
    "version": 3
   },
   "file_extension": ".py",
   "mimetype": "text/x-python",
   "name": "python",
   "nbconvert_exporter": "python",
   "pygments_lexer": "ipython3",
   "version": "3.8.6"
  }
 },
 "nbformat": 4,
 "nbformat_minor": 4
}
