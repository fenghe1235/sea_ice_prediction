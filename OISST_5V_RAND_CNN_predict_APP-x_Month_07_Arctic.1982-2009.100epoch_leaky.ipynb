{
 "cells": [
  {
   "cell_type": "code",
   "execution_count": 1,
   "metadata": {},
   "outputs": [],
   "source": [
    "import tensorflow as tf\n",
    "from tensorflow import keras\n",
    "from netCDF4 import Dataset\n",
    "import numpy as np\n",
    "import matplotlib.pyplot as plt\n",
    "from IPython.display import clear_output\n",
    "import time\n",
    "from sklearn.model_selection import train_test_split\n",
    "from keras.models import Sequential,Input,Model\n",
    "from keras.layers import Dense, Dropout, Flatten\n",
    "from keras.layers import Conv2D, MaxPooling2D\n",
    "from keras.layers.normalization import BatchNormalization\n",
    "from keras.layers.advanced_activations import LeakyReLU\n",
    "from sklearn.metrics import classification_report\n",
    "from sklearn.feature_extraction import image\n",
    "from sklearn.preprocessing import StandardScaler\n",
    "from sklearn.model_selection import train_test_split\n",
    "from sklearn.metrics import mean_squared_error"
   ]
  },
  {
   "cell_type": "code",
   "execution_count": 2,
   "metadata": {},
   "outputs": [],
   "source": [
    "nc_frmse = 'APP-x.1400.ERA-I.1982-2018.07.Arctic.RMSE.5V.RAND.100epoch_leaky.nc'\n",
    "h5_model = 'APP-x.1400.ERA-I.1982-2018.07.Arctic.1982-2009.5V.RAND.100epoch_leaky.h5'\n",
    "nc_fy    = 'APP-x.1400.ERA-I.1982-2018.07.Arctic.2010-2018.nc'\n",
    "nc_fay   = 'APP-x.1400.ERA-I.1982-2018.07.anom.wrt.2001-2018.Arctic.2010-2018.nc'\n",
    "nc_fm    = 'APP-x.1400.ERA-I.1982-2018.06.Arctic.2010-2018.nc'\n",
    "nc_fam   = 'APP-x.1400.ERA-I.1982-2018.06.anom.wrt.2001-2018.Arctic.2010-2018.nc'"
   ]
  },
  {
   "cell_type": "code",
   "execution_count": 3,
   "metadata": {},
   "outputs": [],
   "source": [
    "psize  = 11\n",
    "cx     = int((psize-1)/2)\n",
    "cy     = int((psize-1)/2)"
   ]
  },
  {
   "cell_type": "code",
   "execution_count": 4,
   "metadata": {},
   "outputs": [],
   "source": [
    "# input file for SIC Yr-1\n",
    "\n",
    "nc_fidy  = Dataset(nc_fy, 'r')\n",
    "\n",
    "time    = nc_fidy.variables['time'][:]\n",
    "\n",
    "ysic0   = nc_fidy.variables['icecon'][:]\n",
    "ythk0   = nc_fidy.variables['t2m'][:]\n",
    "yvtn0   = nc_fidy.variables['v10'][:]\n",
    "ytem0   = nc_fidy.variables['sst'][:]\n",
    "yalb0   = nc_fidy.variables['fal'][:]\n",
    "\n",
    "# input file for SIC, THK, Temperature and ALBEDO Mon-1\n",
    "\n",
    "nc_fidm = Dataset(nc_fm, 'r')\n",
    "msic0   = nc_fidm.variables['icecon'][:]\n",
    "mthk0   = nc_fidm.variables['t2m'][:]\n",
    "mvtn0   = nc_fidm.variables['v10'][:]\n",
    "mtem0   = nc_fidm.variables['sst'][:]\n",
    "malb0   = nc_fidm.variables['fal'][:]\n",
    "\n",
    "# input file for SIC Anomaly, Yr-1\n",
    "\n",
    "nc_fiday = Dataset(nc_fay, 'r')\n",
    "aysic0   = nc_fiday.variables['icecon'][:]\n",
    "aythk0   = nc_fiday.variables['t2m'][:]\n",
    "ayvtn0   = nc_fiday.variables['v10'][:]\n",
    "aytem0   = nc_fiday.variables['sst'][:]\n",
    "ayalb0   = nc_fiday.variables['fal'][:]\n",
    "\n",
    "# input file for SIC Anomaly, Mon-1\n",
    "\n",
    "nc_fidam = Dataset(nc_fam, 'r')\n",
    "amsic0   = nc_fidam.variables['icecon'][:]\n",
    "amthk0   = nc_fidam.variables['t2m'][:]\n",
    "amvtn0   = nc_fidam.variables['v10'][:]\n",
    "amtem0   = nc_fidam.variables['sst'][:]\n",
    "amalb0   = nc_fidam.variables['fal'][:]"
   ]
  },
  {
   "cell_type": "code",
   "execution_count": 5,
   "metadata": {},
   "outputs": [
    {
     "name": "stdout",
     "output_type": "stream",
     "text": [
      "msic1.shape: (361, 361, 9)\n",
      "ysic1.shape: (361, 361, 9)\n"
     ]
    }
   ],
   "source": [
    "ysic1   = np.transpose(ysic0)\n",
    "ythk1   = np.transpose(ythk0)\n",
    "yvtn1   = np.transpose(yvtn0)\n",
    "ytem1   = np.transpose(ytem0)\n",
    "yalb1   = np.transpose(yalb0)\n",
    "\n",
    "msic1   = np.transpose(msic0)\n",
    "mthk1   = np.transpose(mthk0)\n",
    "mvtn1   = np.transpose(mvtn0)\n",
    "mtem1   = np.transpose(mtem0)\n",
    "malb1   = np.transpose(malb0)\n",
    "\n",
    "aysic1   = np.transpose(aysic0)\n",
    "aythk1   = np.transpose(aythk0)\n",
    "ayvtn1   = np.transpose(ayvtn0)\n",
    "aytem1   = np.transpose(aytem0)\n",
    "ayalb1   = np.transpose(ayalb0)\n",
    "\n",
    "amsic1   = np.transpose(amsic0)\n",
    "amthk1   = np.transpose(amthk0)\n",
    "amvtn1   = np.transpose(amvtn0)\n",
    "amtem1   = np.transpose(amtem0)\n",
    "amalb1   = np.transpose(amalb0)\n",
    "\n",
    "\n",
    "print(\"msic1.shape:\", msic1.shape)\n",
    "print(\"ysic1.shape:\", ysic1.shape)"
   ]
  },
  {
   "cell_type": "code",
   "execution_count": 6,
   "metadata": {},
   "outputs": [],
   "source": [
    "# Remove NaNs\n",
    "Y_SIC2   = np.nan_to_num(ysic1[:,:,1:])\n",
    "Y_time   = time[1:]\n",
    "\n",
    "ysic2    = np.nan_to_num(ysic1[:,:,:-1])\n",
    "ythk2    = np.nan_to_num(ythk1[:,:,:-1])\n",
    "yvtn2    = np.nan_to_num(yvtn1[:,:,:-1])\n",
    "ytem2    = np.nan_to_num(ytem1[:,:,:-1])\n",
    "yalb2    = np.nan_to_num(yalb1[:,:,:-1])\n",
    "\n",
    "\n",
    "msic2    = np.nan_to_num(msic1[:,:,1:])\n",
    "mthk2    = np.nan_to_num(mthk1[:,:,1:])\n",
    "mvtn2    = np.nan_to_num(mvtn1[:,:,1:])\n",
    "mtem2    = np.nan_to_num(mtem1[:,:,1:])\n",
    "malb2    = np.nan_to_num(malb1[:,:,1:])\n",
    "\n",
    "aysic2    = np.nan_to_num(aysic1[:,:,:-1])\n",
    "aythk2    = np.nan_to_num(aythk1[:,:,:-1])\n",
    "ayvtn2    = np.nan_to_num(ayvtn1[:,:,:-1])\n",
    "aytem2    = np.nan_to_num(aytem1[:,:,:-1])\n",
    "ayalb2    = np.nan_to_num(ayalb1[:,:,:-1])\n",
    "\n",
    "amsic2    = np.nan_to_num(amsic1[:,:,1:])\n",
    "amthk2    = np.nan_to_num(amthk1[:,:,1:])\n",
    "amvtn2    = np.nan_to_num(amvtn1[:,:,1:])\n",
    "amtem2    = np.nan_to_num(amtem1[:,:,1:])\n",
    "amalb2    = np.nan_to_num(amalb1[:,:,1:])"
   ]
  },
  {
   "cell_type": "code",
   "execution_count": 7,
   "metadata": {},
   "outputs": [],
   "source": [
    "Y_SIC3 = image.extract_patches_2d(Y_SIC2, (psize, psize))\n",
    "\n",
    "ysic3  = image.extract_patches_2d(ysic2,  (psize, psize))\n",
    "ythk3  = image.extract_patches_2d(ythk2,  (psize, psize))\n",
    "yvtn3  = image.extract_patches_2d(yvtn2,  (psize, psize))\n",
    "ytem3  = image.extract_patches_2d(ytem2,  (psize, psize))\n",
    "yalb3  = image.extract_patches_2d(yalb2,  (psize, psize))\n",
    "\n",
    "msic3  = image.extract_patches_2d(msic2,  (psize, psize))\n",
    "mthk3  = image.extract_patches_2d(mthk2,  (psize, psize))\n",
    "mvtn3  = image.extract_patches_2d(mvtn2,  (psize, psize))\n",
    "mtem3  = image.extract_patches_2d(mtem2,  (psize, psize))\n",
    "malb3  = image.extract_patches_2d(malb2,  (psize, psize))\n",
    "\n",
    "amsic3 = image.extract_patches_2d(amsic2, (psize, psize))\n",
    "amthk3 = image.extract_patches_2d(amthk2, (psize, psize))\n",
    "amvtn3 = image.extract_patches_2d(amvtn2, (psize, psize))\n",
    "amtem3 = image.extract_patches_2d(amtem2, (psize, psize))\n",
    "amalb3 = image.extract_patches_2d(amalb2, (psize, psize))\n",
    "\n",
    "aysic3 = image.extract_patches_2d(aysic2, (psize, psize))\n",
    "aythk3 = image.extract_patches_2d(aythk2, (psize, psize))\n",
    "ayvtn3 = image.extract_patches_2d(ayvtn2, (psize, psize))\n",
    "aytem3 = image.extract_patches_2d(aytem2, (psize, psize))\n",
    "ayalb3 = image.extract_patches_2d(ayalb2, (psize, psize))"
   ]
  },
  {
   "cell_type": "code",
   "execution_count": 8,
   "metadata": {},
   "outputs": [
    {
     "name": "stdout",
     "output_type": "stream",
     "text": [
      " ysic3 shape: (123201, 11, 11, 8)\n",
      " msic3 shape: (123201, 11, 11, 8)\n",
      "aysic3 shape: (123201, 11, 11, 8)\n",
      "amsic3 shape: (123201, 11, 11, 8)\n"
     ]
    }
   ],
   "source": [
    "print(\" ysic3 shape:\", ysic3.shape)\n",
    "print(\" msic3 shape:\", msic3.shape)\n",
    "print(\"aysic3 shape:\", aysic3.shape)\n",
    "print(\"amsic3 shape:\", amsic3.shape)"
   ]
  },
  {
   "cell_type": "code",
   "execution_count": 9,
   "metadata": {},
   "outputs": [
    {
     "name": "stdout",
     "output_type": "stream",
     "text": [
      "Y_SIC.shape: (11, 11, 8, 123201)\n",
      "ysic.shape: (11, 11, 8, 123201)\n",
      "msic.shape: (11, 11, 8, 123201)\n"
     ]
    }
   ],
   "source": [
    "Y_SIC  = np.transpose(Y_SIC3,(1,2,3,0))\n",
    "\n",
    "ysic   = np.transpose(ysic3,(1,2,3,0))\n",
    "ythk   = np.transpose(ythk3,(1,2,3,0))\n",
    "yvtn   = np.transpose(yvtn3,(1,2,3,0))\n",
    "ytem   = np.transpose(ytem3,(1,2,3,0))\n",
    "yalb   = np.transpose(yalb3,(1,2,3,0))\n",
    "\n",
    "msic   = np.transpose(msic3,(1,2,3,0))\n",
    "mthk   = np.transpose(mthk3,(1,2,3,0))\n",
    "mvtn   = np.transpose(mvtn3,(1,2,3,0))\n",
    "mtem   = np.transpose(mtem3,(1,2,3,0))\n",
    "malb   = np.transpose(malb3,(1,2,3,0))\n",
    "\n",
    "aysic   = np.transpose(aysic3,(1,2,3,0))\n",
    "aythk   = np.transpose(aythk3,(1,2,3,0))\n",
    "ayvtn   = np.transpose(ayvtn3,(1,2,3,0))\n",
    "aytem   = np.transpose(aytem3,(1,2,3,0))\n",
    "ayalb   = np.transpose(ayalb3,(1,2,3,0))\n",
    "\n",
    "amsic   = np.transpose(amsic3,(1,2,3,0))\n",
    "amthk   = np.transpose(amthk3,(1,2,3,0))\n",
    "amvtn   = np.transpose(amvtn3,(1,2,3,0))\n",
    "amtem   = np.transpose(amtem3,(1,2,3,0))\n",
    "amalb   = np.transpose(amalb3,(1,2,3,0))\n",
    "\n",
    "\n",
    "print(\"Y_SIC.shape:\", Y_SIC.shape)\n",
    "print(\"ysic.shape:\", ysic.shape)\n",
    "print(\"msic.shape:\", msic.shape)"
   ]
  },
  {
   "cell_type": "code",
   "execution_count": 10,
   "metadata": {},
   "outputs": [
    {
     "name": "stdout",
     "output_type": "stream",
     "text": [
      "aysic_2d.shape: (121, 985608)\n",
      "amsic_2d.shape: (121, 985608)\n",
      "mthk_2d.shape : (121, 985608)\n",
      "mvtn_2d.shape : (121, 985608)\n",
      "malb_2d.shape : (121, 985608)\n",
      "mtem_2d.shape : (121, 985608)\n"
     ]
    }
   ],
   "source": [
    "px, py, nyr, npatch = ysic.shape\n",
    "\n",
    "aysic_2d = aysic.reshape((px*py, nyr*npatch))\n",
    "amsic_2d = amsic.reshape((px*py, nyr*npatch))\n",
    "mthk_2d  =  mthk.reshape((px*py, nyr*npatch))\n",
    "mvtn_2d  =  mvtn.reshape((px*py, nyr*npatch))\n",
    "malb_2d  =  malb.reshape((px*py, nyr*npatch))\n",
    "mtem_2d  =  mtem.reshape((px*py, nyr*npatch))\n",
    "\n",
    "\n",
    "print(\"aysic_2d.shape:\", aysic_2d.shape)\n",
    "print(\"amsic_2d.shape:\", amsic_2d.shape)\n",
    "print(\"mthk_2d.shape :\", mthk_2d.shape)\n",
    "print(\"mvtn_2d.shape :\", mvtn_2d.shape)\n",
    "print(\"malb_2d.shape :\", malb_2d.shape)\n",
    "print(\"mtem_2d.shape :\", mtem_2d.shape)"
   ]
  },
  {
   "cell_type": "code",
   "execution_count": 11,
   "metadata": {},
   "outputs": [
    {
     "name": "stdout",
     "output_type": "stream",
     "text": [
      "naysic_2d.shape: (121, 985608)\n",
      "namsic_2d.shape: (121, 985608)\n",
      "nmthk_2d.shape : (121, 985608)\n",
      "nmvtn_2d.shape : (121, 985608)\n",
      "nmalb_2d.shape : (121, 985608)\n",
      "nmtem_2d.shape : (121, 985608)\n"
     ]
    }
   ],
   "source": [
    "#normalization\n",
    "scaler = StandardScaler()\n",
    "\n",
    "naysic_2d = scaler.fit_transform(aysic_2d)\n",
    "namsic_2d = scaler.fit_transform(amsic_2d)\n",
    "nmthk_2d  = scaler.fit_transform(mthk_2d)\n",
    "nmvtn_2d  = scaler.fit_transform(mvtn_2d)\n",
    "nmalb_2d  = scaler.fit_transform(malb_2d)\n",
    "nmtem_2d  = scaler.fit_transform(mtem_2d)\n",
    "nysic  =  ysic.reshape((px, py, nyr*npatch))/100\n",
    "nmsic  =  msic.reshape((px, py, nyr*npatch))/100\n",
    "\n",
    "print(\"naysic_2d.shape:\", naysic_2d.shape)\n",
    "print(\"namsic_2d.shape:\", namsic_2d.shape)\n",
    "print(\"nmthk_2d.shape :\", nmthk_2d.shape)\n",
    "print(\"nmvtn_2d.shape :\", nmvtn_2d.shape)\n",
    "print(\"nmalb_2d.shape :\", nmalb_2d.shape)\n",
    "print(\"nmtem_2d.shape :\", nmtem_2d.shape)"
   ]
  },
  {
   "cell_type": "code",
   "execution_count": 12,
   "metadata": {},
   "outputs": [
    {
     "name": "stdout",
     "output_type": "stream",
     "text": [
      "Y_SIC_Center.shape: (985608,)\n",
      "nysic.shape:  (11, 11, 985608)\n",
      "nmsic.shape:  (11, 11, 985608)\n",
      "naysic.shape: (11, 11, 985608)\n",
      "namsic.shape: (11, 11, 985608)\n",
      "nmthk.shape:  (11, 11, 985608)\n",
      "nmvtn.shape:  (11, 11, 985608)\n",
      "nmalb.shape:  (11, 11, 985608)\n",
      "nmtem.shape:  (11, 11, 985608)\n",
      "nysic.range:   0.0 1.0\n",
      "nmsic.range:   0.0 1.0\n",
      "naysic.range:  -10.954452 10.954452\n",
      "namsic.range:  -10.954452 10.954452\n",
      "nmthk.range:   -7.4388204 7.285815\n",
      "nmvtn.range:   -6.238906 6.625461\n",
      "nmalb.range:   -10.954452 10.954452\n",
      "nmtem.range:   -10.954446 10.954452\n"
     ]
    }
   ],
   "source": [
    "Y_SIC_Center = Y_SIC[cx,cy,:,:].reshape((nyr*npatch))\n",
    "\n",
    "naysic = naysic_2d.reshape((px, py, nyr*npatch))\n",
    "namsic = namsic_2d.reshape((px, py, nyr*npatch))\n",
    "nmthk  =  nmthk_2d.reshape((px, py, nyr*npatch))\n",
    "nmvtn  =  nmvtn_2d.reshape((px, py, nyr*npatch))\n",
    "nmalb  =  nmalb_2d.reshape((px, py, nyr*npatch))\n",
    "nmtem  =  nmtem_2d.reshape((px, py, nyr*npatch))\n",
    "\n",
    "print(\"Y_SIC_Center.shape:\", Y_SIC_Center.shape)\n",
    "\n",
    "print(\"nysic.shape: \",  nysic.shape)\n",
    "print(\"nmsic.shape: \",  nmsic.shape)\n",
    "print(\"naysic.shape:\", naysic.shape)\n",
    "print(\"namsic.shape:\", namsic.shape)\n",
    "print(\"nmthk.shape: \",  nmthk.shape)\n",
    "print(\"nmvtn.shape: \",  nmvtn.shape)\n",
    "print(\"nmalb.shape: \",  nmalb.shape)\n",
    "print(\"nmtem.shape: \",  nmtem.shape)\n",
    "\n",
    "print(\"nysic.range:  \",nysic.min(), nysic.max())\n",
    "print(\"nmsic.range:  \",nmsic.min(), nmsic.max())\n",
    "print(\"naysic.range: \",naysic.min(), naysic.max())\n",
    "print(\"namsic.range: \",namsic.min(), namsic.max())\n",
    "print(\"nmthk.range:  \",nmthk.min(), nmthk.max())\n",
    "print(\"nmvtn.range:  \",nmvtn.min(), nmvtn.max())\n",
    "print(\"nmalb.range:  \",nmalb.min(), nmalb.max())\n",
    "print(\"nmtem.range:  \",nmtem.min(), nmtem.max())"
   ]
  },
  {
   "cell_type": "code",
   "execution_count": 13,
   "metadata": {},
   "outputs": [
    {
     "name": "stdout",
     "output_type": "stream",
     "text": [
      "X1.shape: (8, 11, 11, 985608)\n",
      "X.shape: (985608, 11, 11, 8)\n"
     ]
    }
   ],
   "source": [
    "# Combine all the standardized data and reshape\n",
    "X1 = np.stack((nysic,nmsic,naysic,namsic,nmthk,nmvtn,nmalb,nmtem))\n",
    "print(\"X1.shape:\", X1.shape)\n",
    "X  = np.transpose(X1)\n",
    "print(\"X.shape:\", X.shape)"
   ]
  },
  {
   "cell_type": "code",
   "execution_count": 14,
   "metadata": {},
   "outputs": [],
   "source": [
    "model = tf.keras.models.load_model(h5_model)"
   ]
  },
  {
   "cell_type": "code",
   "execution_count": 15,
   "metadata": {},
   "outputs": [
    {
     "data": {
      "text/plain": [
       "(985608, 1)"
      ]
     },
     "execution_count": 15,
     "metadata": {},
     "output_type": "execute_result"
    }
   ],
   "source": [
    "predicted_SIC = model.predict(X)\n",
    "predicted_SIC.shape"
   ]
  },
  {
   "cell_type": "code",
   "execution_count": 16,
   "metadata": {},
   "outputs": [],
   "source": [
    "import os\n",
    "os.system('cp '+ nc_fy + ' '+ nc_frmse )  \n",
    "nc_fout    = nc_frmse\n",
    "\n",
    "nc_fout_id = Dataset(nc_fout, 'r+')\n",
    "\n",
    "icetgt    = np.empty(shape=ysic0.shape,dtype='float') \n",
    "icepdt    = np.empty(shape=ysic0.shape,dtype='float')\n",
    "icerms    = np.empty(shape=ysic0[0,:,:].shape,dtype='float') "
   ]
  },
  {
   "cell_type": "code",
   "execution_count": 17,
   "metadata": {},
   "outputs": [],
   "source": [
    "ll = 0\n",
    "for kz in range(1,          icetgt.shape[0]):\n",
    "    for ix in range(cx,     icetgt.shape[2]-cx):\n",
    "        for jy in range(cy, icetgt.shape[1]-cy):\n",
    "            icetgt[kz,jy,ix] = Y_SIC_Center[ll]\n",
    "            icepdt[kz,jy,ix] = predicted_SIC[ll,0]\n",
    "            ll = ll + 1"
   ]
  },
  {
   "cell_type": "code",
   "execution_count": 18,
   "metadata": {},
   "outputs": [],
   "source": [
    "icetgt1 = icetgt[1:,:,:]\n",
    "icepdt1 = icepdt[1:,:,:]\n",
    "iceerr  = icepdt1 - icetgt1\n",
    "\n",
    "ntime, nlat, nlon  = icetgt1.shape\n",
    "\n",
    "icetgt1_2d = icetgt1.reshape((ntime, nlat*nlon))\n",
    "icepdt1_2d = icepdt1.reshape((ntime, nlat*nlon))\n",
    "\n",
    "icerms_2d  = mean_squared_error(icetgt1_2d, icepdt1_2d, multioutput='raw_values', squared=False)\n",
    "icerms     = icerms_2d.reshape((nlat,nlon))\n",
    "icerms[icerms == 0] = 'nan'\n",
    "icerms_mean = np.nanmean(icerms)"
   ]
  },
  {
   "cell_type": "code",
   "execution_count": 19,
   "metadata": {},
   "outputs": [],
   "source": [
    "icetgt[np.isnan(ysic0)] = 'nan'\n",
    "icepdt[np.isnan(ysic0)] = 'nan'\n",
    "iceerr[np.isnan(ysic0[1:,:,:])] = 'nan'\n",
    "#print(Y_SIC_Center[0:icetgt.shape[2]*2-cx*4])\n",
    "#print(icetgt[1,     cy:icetgt.shape[1]-cy,        cx:cx+2])\n",
    "#print(icepdt[1,     cy:icetgt.shape[1]-cy,        cx:cx+2])"
   ]
  },
  {
   "cell_type": "code",
   "execution_count": 20,
   "metadata": {},
   "outputs": [],
   "source": [
    "NC_SIC_TGT         = nc_fout_id.createVariable('icetgt','f4',('time', 'num_pixels', 'num_lines'))\n",
    "NC_SIC_PDT         = nc_fout_id.createVariable('icepdt','f4',('time', 'num_pixels', 'num_lines'))\n",
    "NC_SIC_ERR         = nc_fout_id.createVariable('iceerr','f4',('time', 'num_pixels', 'num_lines'))\n",
    "NC_SIC_RMS         = nc_fout_id.createVariable('icerms','f4',('time', 'num_pixels', 'num_lines'))\n",
    "NC_SIC_RMS_MEAN    = nc_fout_id.createVariable('icerms_mean','f4',('time'))\n",
    "\n",
    "NC_SIC_TGT[:,:,:]  = icetgt[:,:,:]\n",
    "NC_SIC_PDT[:,:,:]  = icepdt[:,:,:]\n",
    "NC_SIC_ERR[1:,:,:] = iceerr[:,:,:]\n",
    "NC_SIC_RMS[0,:,:]  = icerms[:,:]\n",
    "NC_SIC_RMS_MEAN[0] = icerms_mean\n",
    "\n",
    "nc_fout_id.close()"
   ]
  },
  {
   "cell_type": "code",
   "execution_count": 21,
   "metadata": {},
   "outputs": [
    {
     "name": "stdout",
     "output_type": "stream",
     "text": [
      "Mean RMSE = 15.444548144766157\n"
     ]
    }
   ],
   "source": [
    "print(\"Mean RMSE =\", icerms_mean)"
   ]
  }
 ],
 "metadata": {
  "kernelspec": {
   "display_name": "cryoteam",
   "language": "python",
   "name": "cryoteam"
  },
  "language_info": {
   "codemirror_mode": {
    "name": "ipython",
    "version": 3
   },
   "file_extension": ".py",
   "mimetype": "text/x-python",
   "name": "python",
   "nbconvert_exporter": "python",
   "pygments_lexer": "ipython3",
   "version": "3.7.10"
  }
 },
 "nbformat": 4,
 "nbformat_minor": 4
}
